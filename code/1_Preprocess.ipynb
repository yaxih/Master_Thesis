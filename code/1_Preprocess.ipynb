{
 "cells": [
  {
   "cell_type": "code",
   "execution_count": 1,
   "id": "a1bd9f29",
   "metadata": {},
   "outputs": [],
   "source": [
    "from datetime import datetime\n",
    "import pandas as pd"
   ]
  },
  {
   "cell_type": "code",
   "execution_count": 34,
   "id": "4dc1002e",
   "metadata": {},
   "outputs": [],
   "source": [
    "eventlog = \"env_permit_lowV.csv\""
   ]
  },
  {
   "cell_type": "code",
   "execution_count": 35,
   "id": "173dca81",
   "metadata": {},
   "outputs": [],
   "source": [
    "df = pd.read_csv('../data/%s' % eventlog)"
   ]
  },
  {
   "cell_type": "code",
   "execution_count": 36,
   "id": "899dfced",
   "metadata": {
    "scrolled": true
   },
   "outputs": [
    {
     "data": {
      "text/html": [
       "<div>\n",
       "<style scoped>\n",
       "    .dataframe tbody tr th:only-of-type {\n",
       "        vertical-align: middle;\n",
       "    }\n",
       "\n",
       "    .dataframe tbody tr th {\n",
       "        vertical-align: top;\n",
       "    }\n",
       "\n",
       "    .dataframe thead th {\n",
       "        text-align: right;\n",
       "    }\n",
       "</style>\n",
       "<table border=\"1\" class=\"dataframe\">\n",
       "  <thead>\n",
       "    <tr style=\"text-align: right;\">\n",
       "      <th></th>\n",
       "      <th>case</th>\n",
       "      <th>event</th>\n",
       "      <th>startTime</th>\n",
       "      <th>completeTime</th>\n",
       "      <th>variant:count</th>\n",
       "      <th>variant:index</th>\n",
       "    </tr>\n",
       "  </thead>\n",
       "  <tbody>\n",
       "    <tr>\n",
       "      <th>0</th>\n",
       "      <td>12876753</td>\n",
       "      <td>23</td>\n",
       "      <td>2010/11/23 09:00:00.000</td>\n",
       "      <td>2010/11/23 09:00:00.000</td>\n",
       "      <td>279</td>\n",
       "      <td>0</td>\n",
       "    </tr>\n",
       "    <tr>\n",
       "      <th>1</th>\n",
       "      <td>12876753</td>\n",
       "      <td>28</td>\n",
       "      <td>2010/11/23 09:00:00.000</td>\n",
       "      <td>2010/11/23 09:00:00.000</td>\n",
       "      <td>279</td>\n",
       "      <td>0</td>\n",
       "    </tr>\n",
       "    <tr>\n",
       "      <th>2</th>\n",
       "      <td>12876753</td>\n",
       "      <td>25</td>\n",
       "      <td>2010/11/24 00:00:09.000</td>\n",
       "      <td>2010/11/24 00:00:09.000</td>\n",
       "      <td>279</td>\n",
       "      <td>0</td>\n",
       "    </tr>\n",
       "  </tbody>\n",
       "</table>\n",
       "</div>"
      ],
      "text/plain": [
       "       case  event                startTime             completeTime  \\\n",
       "0  12876753     23  2010/11/23 09:00:00.000  2010/11/23 09:00:00.000   \n",
       "1  12876753     28  2010/11/23 09:00:00.000  2010/11/23 09:00:00.000   \n",
       "2  12876753     25  2010/11/24 00:00:09.000  2010/11/24 00:00:09.000   \n",
       "\n",
       "   variant:count  variant:index  \n",
       "0            279              0  \n",
       "1            279              0  \n",
       "2            279              0  "
      ]
     },
     "execution_count": 36,
     "metadata": {},
     "output_type": "execute_result"
    }
   ],
   "source": [
    "df.head(3)"
   ]
  },
  {
   "cell_type": "code",
   "execution_count": 37,
   "id": "f4eb6f52",
   "metadata": {},
   "outputs": [],
   "source": [
    "import pandas as pd\n",
    "\n",
    "def transform_table(df):\n",
    "    # Drop specific columns\n",
    "    columns_to_drop = ['startTime', 'variant:count', 'variant:index']\n",
    "    df = df.drop(columns=columns_to_drop)\n",
    "\n",
    "    # Rename columns\n",
    "    column_mapping = {'case': 'CaseID', 'event': 'ActivityID', 'completeTime':'CompleteTimestamp'}\n",
    "    df = df.rename(columns=column_mapping)\n",
    "\n",
    "    return df"
   ]
  },
  {
   "cell_type": "code",
   "execution_count": 38,
   "id": "21b9c83b",
   "metadata": {},
   "outputs": [],
   "source": [
    "def convert_timestamp_format(df):\n",
    "    # Define the input and output formats\n",
    "    input_format = '%Y/%m/%d %H:%M:%S.%f'\n",
    "    output_format = '%Y-%m-%d %H:%M:%S'\n",
    "\n",
    "    # Convert each timestamp in the CompleteTimestamp column\n",
    "    df['CompleteTimestamp'] = df['CompleteTimestamp'].apply(lambda x: datetime.strptime(x, input_format).strftime(output_format))\n",
    "\n",
    "    return df"
   ]
  },
  {
   "cell_type": "code",
   "execution_count": 39,
   "id": "32dcb493",
   "metadata": {
    "scrolled": true
   },
   "outputs": [],
   "source": [
    "df = transform_table(df)\n",
    "df = convert_timestamp_format(df)"
   ]
  },
  {
   "cell_type": "code",
   "execution_count": 40,
   "id": "799496f6",
   "metadata": {},
   "outputs": [
    {
     "name": "stdout",
     "output_type": "stream",
     "text": [
      "<class 'pandas.core.frame.DataFrame'>\n",
      "RangeIndex: 46084 entries, 0 to 46083\n",
      "Data columns (total 3 columns):\n",
      " #   Column             Non-Null Count  Dtype \n",
      "---  ------             --------------  ----- \n",
      " 0   CaseID             46084 non-null  int64 \n",
      " 1   ActivityID         46084 non-null  int64 \n",
      " 2   CompleteTimestamp  46084 non-null  object\n",
      "dtypes: int64(2), object(1)\n",
      "memory usage: 1.1+ MB\n"
     ]
    }
   ],
   "source": [
    "df.info()"
   ]
  },
  {
   "cell_type": "code",
   "execution_count": 41,
   "id": "4fcd1727",
   "metadata": {},
   "outputs": [],
   "source": [
    "df.to_csv('../data/preprocessed_%s' % eventlog, index=False)"
   ]
  },
  {
   "cell_type": "code",
   "execution_count": null,
   "id": "f8a88d7b",
   "metadata": {},
   "outputs": [],
   "source": []
  }
 ],
 "metadata": {
  "kernelspec": {
   "display_name": "Python 3 (ipykernel)",
   "language": "python",
   "name": "python3"
  },
  "language_info": {
   "codemirror_mode": {
    "name": "ipython",
    "version": 3
   },
   "file_extension": ".py",
   "mimetype": "text/x-python",
   "name": "python",
   "nbconvert_exporter": "python",
   "pygments_lexer": "ipython3",
   "version": "3.9.12"
  }
 },
 "nbformat": 4,
 "nbformat_minor": 5
}
