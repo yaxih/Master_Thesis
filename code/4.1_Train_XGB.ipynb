{
 "cells": [
  {
   "cell_type": "code",
   "execution_count": 92,
   "id": "1e0a8cad",
   "metadata": {},
   "outputs": [],
   "source": [
    "from __future__ import print_function, division\n",
    "from collections import Counter\n",
    "import csv\n",
    "import numpy as np\n",
    "import random\n",
    "import sys\n",
    "import os\n",
    "import copy\n",
    "import time\n",
    "from datetime import datetime,timedelta\n",
    "from math import log, sqrt\n",
    "import pandas as pd\n",
    "import distance\n",
    "from keras.models import load_model\n",
    "import matplotlib.pyplot as plt\n",
    "from jellyfish._jellyfish import damerau_levenshtein_distance"
   ]
  },
  {
   "cell_type": "markdown",
   "id": "86df68fe",
   "metadata": {},
   "source": [
    "# 1.Read file"
   ]
  },
  {
   "cell_type": "code",
   "execution_count": null,
   "id": "6d2913d5",
   "metadata": {},
   "outputs": [],
   "source": [
    "eventlog = \"preprocessed_bpi13_lowV.csv\"\n",
    "eventlog_name = \"bpi13\""
   ]
  },
  {
   "cell_type": "code",
   "execution_count": null,
   "id": "3a7469a3",
   "metadata": {},
   "outputs": [],
   "source": [
    "csvfile = open('../data/%s' % eventlog, 'r')\n",
    "spamreader = csv.reader(csvfile, delimiter=',', quotechar='|')\n",
    "next(spamreader, None)  # skip the headers\n",
    "ascii_offset = 161"
   ]
  },
  {
   "cell_type": "code",
   "execution_count": 95,
   "id": "027e6f8d",
   "metadata": {},
   "outputs": [],
   "source": [
    "lines = [] #these are all the activity seq\n",
    "timeseqs = [] #time sequences (differences between two events)\n",
    "timeseqs2 = [] #time sequences (differences between the current and first)\n",
    "\n",
    "#helper variables\n",
    "lastcase = ''\n",
    "line = ''\n",
    "firstLine = True\n",
    "times = []\n",
    "times2 = []\n",
    "numlines = 0\n",
    "casestarttime = None\n",
    "lasteventtime = None"
   ]
  },
  {
   "cell_type": "code",
   "execution_count": 96,
   "id": "32e1e57a",
   "metadata": {},
   "outputs": [],
   "source": [
    "for row in spamreader: #the rows are \"CaseID,ActivityID,CompleteTimestamp\"\n",
    "    t = datetime.strptime(row[2], \"%Y-%m-%d %H:%M:%S\") #creates a datetime object from row[2]\n",
    "    if row[0]!=lastcase:  #'lastcase' is to save the last executed case for the loop\n",
    "        casestarttime = t\n",
    "        lasteventtime = t\n",
    "        lastcase = row[0]\n",
    "        if not firstLine:\n",
    "            lines.append(line)\n",
    "            timeseqs.append(times)\n",
    "            timeseqs2.append(times2)\n",
    "        line = ''\n",
    "        times = []\n",
    "        times2 = []\n",
    "        numlines+=1\n",
    "    line+=chr(int(row[1])+ascii_offset)\n",
    "    timesincelastevent = t - lasteventtime\n",
    "    timesincecasestart = t - casestarttime\n",
    "    timediff = 86400 * timesincelastevent.days + timesincelastevent.seconds  #time b/t current and last event\n",
    "    timediff2 = 86400 * timesincecasestart.days + timesincecasestart.seconds #time b/t current and starting event\n",
    "    times.append(timediff)\n",
    "    times2.append(timediff2)\n",
    "    lasteventtime = t\n",
    "    firstLine = False\n",
    "\n",
    "# add last case\n",
    "lines.append(line)\n",
    "timeseqs.append(times)\n",
    "timeseqs2.append(times2)\n",
    "numlines+=1"
   ]
  },
  {
   "cell_type": "code",
   "execution_count": 97,
   "id": "91178c1c",
   "metadata": {},
   "outputs": [],
   "source": [
    "# Example of accessing processed data\n",
    "#print(lines)\n",
    "#print(timeseqs)\n",
    "#print(timeseqs2)"
   ]
  },
  {
   "cell_type": "code",
   "execution_count": 98,
   "id": "e7048d2e",
   "metadata": {},
   "outputs": [
    {
     "name": "stdout",
     "output_type": "stream",
     "text": [
      "divisor: 210915.5199854121\n",
      "divisor2: 409874.9012399708\n"
     ]
    }
   ],
   "source": [
    "#average time between events\n",
    "divisor = np.mean([item for sublist in timeseqs for item in sublist]) \n",
    "print('divisor: {}'.format(divisor))\n",
    "#average time between current and starting events\n",
    "divisor2 = np.mean([item for sublist in timeseqs2 for item in sublist]) \n",
    "print('divisor2: {}'.format(divisor2))\n"
   ]
  },
  {
   "cell_type": "code",
   "execution_count": 99,
   "id": "57247802",
   "metadata": {},
   "outputs": [],
   "source": [
    "# separate training data into 3 parts\n",
    "elems_per_fold = int(round(numlines/3)) #calculate the number of elements per fold\n",
    "# fist 1/3 elements and their calculated time features\n",
    "fold1 = lines[:elems_per_fold]\n",
    "fold1_t = timeseqs[:elems_per_fold]\n",
    "fold1_t2 = timeseqs2[:elems_per_fold]\n",
    "# second 1/3 elements and their calculated time features\n",
    "fold2 = lines[elems_per_fold:2*elems_per_fold]\n",
    "fold2_t = timeseqs[elems_per_fold:2*elems_per_fold]\n",
    "fold2_t2 = timeseqs2[elems_per_fold:2*elems_per_fold]\n",
    "# last 1/3 elements and their calculated time features\n",
    "fold3 = lines[2*elems_per_fold:]\n",
    "fold3_t = timeseqs[2*elems_per_fold:]\n",
    "fold3_t2 = timeseqs2[2*elems_per_fold:]\n",
    "\n",
    "#consider only fist and second part as training set, leave away fold3 for now\n",
    "lines = fold1 + fold2\n",
    "lines_t = fold1_t + fold2_t\n",
    "lines_t2 = fold1_t2 + fold2_t2"
   ]
  },
  {
   "cell_type": "code",
   "execution_count": 100,
   "id": "83fbe20c",
   "metadata": {},
   "outputs": [],
   "source": [
    "step = 1\n",
    "sentences = []\n",
    "softness = 0\n",
    "next_chars = []\n",
    "lines = list(map(lambda x: x+ '!',lines)) #add a delimiter symbol '!' to the end of each line\n",
    "maxlen = max(map(lambda x: len(x),lines)) #find maximum line size\n",
    "\n",
    "# next lines here to get all possible characters for events and annotate them with numbers\n",
    "chars = list(map(lambda x: set(x),lines))\n",
    "chars = list(set().union(*chars))\n",
    "chars.sort()"
   ]
  },
  {
   "cell_type": "code",
   "execution_count": 101,
   "id": "ea278822",
   "metadata": {},
   "outputs": [
    {
     "name": "stdout",
     "output_type": "stream",
     "text": [
      "total chars: 9, target chars: 10\n"
     ]
    }
   ],
   "source": [
    "target_chars = copy.copy(chars)\n",
    "\n",
    "if '!' in chars:\n",
    "    chars.remove('!')\n",
    "print('total chars: {}, target chars: {}'.format(len(chars), len(target_chars)))"
   ]
  },
  {
   "cell_type": "code",
   "execution_count": 102,
   "id": "859f59f6",
   "metadata": {},
   "outputs": [
    {
     "name": "stdout",
     "output_type": "stream",
     "text": [
      "{0: '¢', 1: '£', 2: '¤', 3: '¥', 4: '¦', 5: '§', 6: '¨', 7: '©', 8: 'ª'}\n"
     ]
    }
   ],
   "source": [
    "#get the target chars from the training set\n",
    "char_indices = dict((c, i) for i, c in enumerate(chars))\n",
    "indices_char = dict((i, c) for i, c in enumerate(chars))\n",
    "target_char_indices = dict((c, i) for i, c in enumerate(target_chars))\n",
    "target_indices_char = dict((i, c) for i, c in enumerate(target_chars))\n",
    "print(indices_char)"
   ]
  },
  {
   "cell_type": "markdown",
   "id": "5a5cb884",
   "metadata": {},
   "source": [
    "# 3. Feature Enginnering"
   ]
  },
  {
   "cell_type": "code",
   "execution_count": 103,
   "id": "59bc4801",
   "metadata": {},
   "outputs": [],
   "source": [
    "csvfile = open('../data/%s' % eventlog, 'r')\n",
    "spamreader = csv.reader(csvfile, delimiter=',', quotechar='|')\n",
    "next(spamreader, None)  # skip the headers\n",
    "lastcase = ''\n",
    "line = ''\n",
    "firstLine = True\n",
    "lines = []\n",
    "timeseqs = []\n",
    "timeseqs2 = []\n",
    "timeseqs3 = []\n",
    "timeseqs4 = []\n",
    "times = []\n",
    "times2 = []\n",
    "times3 = []\n",
    "times4 = []\n",
    "numlines = 0\n",
    "casestarttime = None\n",
    "lasteventtime = None"
   ]
  },
  {
   "cell_type": "code",
   "execution_count": 104,
   "id": "a5147c8a",
   "metadata": {},
   "outputs": [],
   "source": [
    "for row in spamreader:\n",
    "    t = time.strptime(row[2], \"%Y-%m-%d %H:%M:%S\")\n",
    "    if row[0]!=lastcase:\n",
    "        casestarttime = t\n",
    "        lasteventtime = t\n",
    "        lastcase = row[0]\n",
    "        if not firstLine:\n",
    "            lines.append(line)\n",
    "            timeseqs.append(times)\n",
    "            timeseqs2.append(times2)\n",
    "            timeseqs3.append(times3)\n",
    "            timeseqs4.append(times4)\n",
    "        line = ''\n",
    "        times = []\n",
    "        times2 = []\n",
    "        times3 = []\n",
    "        times4 = []\n",
    "        numlines+=1\n",
    "    line+=chr(int(row[1])+ascii_offset)\n",
    "    timesincelastevent = datetime.fromtimestamp(time.mktime(t))-datetime.fromtimestamp(time.mktime(lasteventtime))\n",
    "    timesincecasestart = datetime.fromtimestamp(time.mktime(t))-datetime.fromtimestamp(time.mktime(casestarttime))\n",
    "    midnight = datetime.fromtimestamp(time.mktime(t)).replace(hour=0, minute=0, second=0, microsecond=0)\n",
    "    timesincemidnight = datetime.fromtimestamp(time.mktime(t))-midnight\n",
    "    timediff = 86400 * timesincelastevent.days + timesincelastevent.seconds\n",
    "    timediff2 = 86400 * timesincecasestart.days + timesincecasestart.seconds\n",
    "    timediff3 = timesincemidnight.seconds #this leaves only time even occurred after midnight\n",
    "    timediff4 = datetime.fromtimestamp(time.mktime(t)).weekday() #day of the week\n",
    "    times.append(timediff)\n",
    "    times2.append(timediff2)\n",
    "    times3.append(timediff3)\n",
    "    times4.append(timediff4)\n",
    "    lasteventtime = t\n",
    "    firstLine = False\n",
    "\n",
    "# add last case\n",
    "lines.append(line)\n",
    "timeseqs.append(times)\n",
    "timeseqs2.append(times2)\n",
    "timeseqs3.append(times3)\n",
    "timeseqs4.append(times4)\n",
    "numlines+=1"
   ]
  },
  {
   "cell_type": "code",
   "execution_count": 105,
   "id": "7714ebc9",
   "metadata": {},
   "outputs": [],
   "source": [
    "# fold 1\n",
    "elems_per_fold = int(round(numlines/3)) #calculate the number of elements per fold\n",
    "fold1 = lines[:elems_per_fold]\n",
    "fold1_t = timeseqs[:elems_per_fold]\n",
    "fold1_t2 = timeseqs2[:elems_per_fold]\n",
    "fold1_t3 = timeseqs3[:elems_per_fold]\n",
    "fold1_t4 = timeseqs4[:elems_per_fold]\n",
    "with open(f'output_files/folds/{eventlog_name}_fold1.csv', 'w', newline='') as csvfile:\n",
    "    spamwriter = csv.writer(csvfile, delimiter=',', quotechar='|', quoting=csv.QUOTE_MINIMAL)\n",
    "    for row, timeseq in zip(fold1, fold1_t):\n",
    "        spamwriter.writerow([str(s) + '#{}'.format(t) for s, t in zip(row, timeseq)])\n",
    "        \n",
    "# fold 2\n",
    "fold2 = lines[elems_per_fold:2*elems_per_fold]\n",
    "fold2_t = timeseqs[elems_per_fold:2*elems_per_fold]\n",
    "fold2_t2 = timeseqs2[elems_per_fold:2*elems_per_fold]\n",
    "fold2_t3 = timeseqs3[elems_per_fold:2*elems_per_fold]\n",
    "fold2_t4 = timeseqs4[elems_per_fold:2*elems_per_fold]\n",
    "with open(f'output_files/folds/{eventlog_name}_fold2.csv', 'w', newline='') as csvfile:\n",
    "    spamwriter = csv.writer(csvfile, delimiter=',', quotechar='|', quoting=csv.QUOTE_MINIMAL)\n",
    "    for row, timeseq in zip(fold2, fold2_t):\n",
    "        spamwriter.writerow([str(s) +'#{}'.format(t) for s, t in zip(row, timeseq)])\n",
    "        \n",
    "# fold 3\n",
    "fold3 = lines[2*elems_per_fold:]\n",
    "fold3_t = timeseqs[2*elems_per_fold:]\n",
    "fold3_t2 = timeseqs2[2*elems_per_fold:]\n",
    "fold3_t3 = timeseqs3[2*elems_per_fold:]\n",
    "fold3_t4 = timeseqs4[2*elems_per_fold:]\n",
    "with open(f'output_files/folds/{eventlog_name}_fold3.csv', 'w', newline='') as csvfile:\n",
    "    spamwriter = csv.writer(csvfile, delimiter=',', quotechar='|', quoting=csv.QUOTE_MINIMAL)\n",
    "    for row, timeseq in zip(fold3, fold3_t):\n",
    "        spamwriter.writerow([str(s) +'#{}'.format(t) for s, t in zip(row, timeseq)])\n",
    "        \n",
    "lines = fold1 + fold2\n",
    "lines_t = fold1_t + fold2_t\n",
    "lines_t2 = fold1_t2 + fold2_t2\n",
    "lines_t3 = fold1_t3 + fold2_t3\n",
    "lines_t4 = fold1_t4 + fold2_t4"
   ]
  },
  {
   "cell_type": "code",
   "execution_count": 109,
   "id": "2e359f41",
   "metadata": {},
   "outputs": [
    {
     "name": "stdout",
     "output_type": "stream",
     "text": [
      "nb sequences: 9181\n"
     ]
    }
   ],
   "source": [
    "step = 1\n",
    "sentences = []\n",
    "softness = 0\n",
    "next_chars = []\n",
    "lines = list(map(lambda x: x+'!', lines))\n",
    "\n",
    "sentences_t = []\n",
    "sentences_t2 = []\n",
    "sentences_t3 = []\n",
    "sentences_t4 = []\n",
    "next_chars_t = []\n",
    "next_chars_t2 = []\n",
    "next_chars_t3 = []\n",
    "next_chars_t4 = []\n",
    "\n",
    "for line, line_t, line_t2, line_t3, line_t4 in zip(lines, lines_t, lines_t2, lines_t3, lines_t4):\n",
    "    for i in range(0, len(line), step):\n",
    "        if i==0:\n",
    "            continue\n",
    "\n",
    "        #we add iteratively, first symbol of the line, then two first, three...\n",
    "        sentences.append(line[0: i])\n",
    "        sentences_t.append(line_t[0:i])\n",
    "        sentences_t2.append(line_t2[0:i])\n",
    "        sentences_t3.append(line_t3[0:i])\n",
    "        sentences_t4.append(line_t4[0:i])\n",
    "        next_chars.append(line[i])\n",
    "\n",
    "        if i==len(line)-1: # special case to deal time of end character\n",
    "            next_chars_t.append(0)\n",
    "            next_chars_t2.append(0)\n",
    "            next_chars_t3.append(0)\n",
    "            next_chars_t4.append(0)\n",
    "        else:\n",
    "            next_chars_t.append(line_t[i])\n",
    "            next_chars_t2.append(line_t2[i])\n",
    "            next_chars_t3.append(line_t3[i])\n",
    "            next_chars_t4.append(line_t4[i])\n",
    "\n",
    "print('nb sequences:', len(sentences))"
   ]
  },
  {
   "cell_type": "markdown",
   "id": "d239d0a3",
   "metadata": {},
   "source": [
    "# 4. Encoding"
   ]
  },
  {
   "cell_type": "code",
   "execution_count": 110,
   "id": "928f529a",
   "metadata": {},
   "outputs": [
    {
     "name": "stdout",
     "output_type": "stream",
     "text": [
      "Vectorization...\n",
      "num features: 14\n"
     ]
    }
   ],
   "source": [
    "print('Vectorization...')\n",
    "num_features = len(chars)+5\n",
    "print('num features: {}'.format(num_features))\n",
    "X = np.zeros((len(sentences), maxlen, num_features), dtype=np.float32)\n",
    "y_a = np.zeros((len(sentences), len(target_chars)), dtype=np.float32)\n",
    "y_t = np.zeros((len(sentences)), dtype=np.float32)\n",
    "for i, sentence in enumerate(sentences):\n",
    "    leftpad = maxlen-len(sentence)\n",
    "    next_t = next_chars_t[i]\n",
    "    sentence_t = sentences_t[i]\n",
    "    sentence_t2 = sentences_t2[i]\n",
    "    sentence_t3 = sentences_t3[i]\n",
    "    sentence_t4 = sentences_t4[i]\n",
    "    for t, char in enumerate(sentence):\n",
    "        multiset_abstraction = Counter(sentence[:t+1])\n",
    "        for c in chars:\n",
    "            if c==char: #this will encode present events to the right places\n",
    "                X[i, t+leftpad, char_indices[c]] = 1\n",
    "        X[i, t+leftpad, len(chars)] = t+1\n",
    "        X[i, t+leftpad, len(chars)+1] = sentence_t[t]/divisor\n",
    "        X[i, t+leftpad, len(chars)+2] = sentence_t2[t]/divisor2\n",
    "        X[i, t+leftpad, len(chars)+3] = sentence_t3[t]/86400\n",
    "        X[i, t+leftpad, len(chars)+4] = sentence_t4[t]/7\n",
    "    for c in target_chars:\n",
    "        if c==next_chars[i]:\n",
    "            y_a[i, target_char_indices[c]] = 1-softness\n",
    "        else:\n",
    "            y_a[i, target_char_indices[c]] = softness/(len(target_chars)-1)\n",
    "    y_t[i] = next_t/divisor\n",
    "    np.set_printoptions(threshold=sys.maxsize)"
   ]
  },
  {
   "cell_type": "code",
   "execution_count": 111,
   "id": "cd1c55b9",
   "metadata": {},
   "outputs": [],
   "source": [
    "# reshape the training set to 2D\n",
    "X = X.reshape(X.shape[0], -1)"
   ]
  },
  {
   "cell_type": "markdown",
   "id": "3cfa6699",
   "metadata": {},
   "source": [
    "# 5. Train XGB"
   ]
  },
  {
   "cell_type": "code",
   "execution_count": 134,
   "id": "f4e5fb10",
   "metadata": {},
   "outputs": [],
   "source": [
    "from sklearn import svm, datasets\n",
    "from sklearn.model_selection import train_test_split, GridSearchCV\n",
    "from sklearn.metrics import accuracy_score, classification_report\n",
    "import xgboost as xgb"
   ]
  },
  {
   "cell_type": "code",
   "execution_count": 135,
   "id": "ca5e3873",
   "metadata": {},
   "outputs": [],
   "source": [
    "# Define the parameter grid for grid search\n",
    "param_grid = {'max_depth': [3, 4, 5],\n",
    "              'learning_rate': [0.1, 0.01, 0.001],\n",
    "              'n_estimators': [100, 200, 300]}"
   ]
  },
  {
   "cell_type": "code",
   "execution_count": 136,
   "id": "16e49e30",
   "metadata": {},
   "outputs": [],
   "source": [
    "# Define the XGBoost classifier\n",
    "xgb_model = xgb.XGBClassifier()"
   ]
  },
  {
   "cell_type": "code",
   "execution_count": 138,
   "id": "3e02f9f3",
   "metadata": {},
   "outputs": [
    {
     "name": "stdout",
     "output_type": "stream",
     "text": [
      "Fitting 5 folds for each of 27 candidates, totalling 135 fits\n",
      "[CV] END ...learning_rate=0.1, max_depth=3, n_estimators=100; total time=   8.5s\n",
      "[CV] END ...learning_rate=0.1, max_depth=3, n_estimators=100; total time=  10.1s\n",
      "[CV] END ...learning_rate=0.1, max_depth=3, n_estimators=100; total time=  10.9s\n",
      "[CV] END ...learning_rate=0.1, max_depth=3, n_estimators=100; total time=  10.5s\n",
      "[CV] END ...learning_rate=0.1, max_depth=3, n_estimators=100; total time=   8.8s\n",
      "[CV] END ...learning_rate=0.1, max_depth=3, n_estimators=200; total time=  20.2s\n",
      "[CV] END ...learning_rate=0.1, max_depth=3, n_estimators=200; total time=  22.1s\n",
      "[CV] END ...learning_rate=0.1, max_depth=3, n_estimators=200; total time=  20.3s\n",
      "[CV] END ...learning_rate=0.1, max_depth=3, n_estimators=200; total time=  18.9s\n",
      "[CV] END ...learning_rate=0.1, max_depth=3, n_estimators=200; total time=  18.4s\n",
      "[CV] END ...learning_rate=0.1, max_depth=3, n_estimators=300; total time=  15.7s\n",
      "[CV] END ...learning_rate=0.1, max_depth=3, n_estimators=300; total time=  14.7s\n",
      "[CV] END ...learning_rate=0.1, max_depth=3, n_estimators=300; total time=  17.3s\n",
      "[CV] END ...learning_rate=0.1, max_depth=3, n_estimators=300; total time=  16.4s\n",
      "[CV] END ...learning_rate=0.1, max_depth=3, n_estimators=300; total time=  16.5s\n",
      "[CV] END ...learning_rate=0.1, max_depth=4, n_estimators=100; total time=   6.7s\n",
      "[CV] END ...learning_rate=0.1, max_depth=4, n_estimators=100; total time=   6.6s\n",
      "[CV] END ...learning_rate=0.1, max_depth=4, n_estimators=100; total time=   6.9s\n",
      "[CV] END ...learning_rate=0.1, max_depth=4, n_estimators=100; total time=   6.8s\n",
      "[CV] END ...learning_rate=0.1, max_depth=4, n_estimators=100; total time=   6.8s\n",
      "[CV] END ...learning_rate=0.1, max_depth=4, n_estimators=200; total time=  13.5s\n",
      "[CV] END ...learning_rate=0.1, max_depth=4, n_estimators=200; total time=  26.0s\n",
      "[CV] END ...learning_rate=0.1, max_depth=4, n_estimators=200; total time=  25.1s\n",
      "[CV] END ...learning_rate=0.1, max_depth=4, n_estimators=200; total time=  26.8s\n",
      "[CV] END ...learning_rate=0.1, max_depth=4, n_estimators=200; total time=  29.3s\n",
      "[CV] END ...learning_rate=0.1, max_depth=4, n_estimators=300; total time=  41.3s\n",
      "[CV] END ...learning_rate=0.1, max_depth=4, n_estimators=300; total time=  38.5s\n",
      "[CV] END ...learning_rate=0.1, max_depth=4, n_estimators=300; total time=  46.3s\n",
      "[CV] END ...learning_rate=0.1, max_depth=4, n_estimators=300; total time=  47.8s\n",
      "[CV] END ...learning_rate=0.1, max_depth=4, n_estimators=300; total time=  49.7s\n",
      "[CV] END ...learning_rate=0.1, max_depth=5, n_estimators=100; total time=  23.2s\n",
      "[CV] END ...learning_rate=0.1, max_depth=5, n_estimators=100; total time=  20.0s\n",
      "[CV] END ...learning_rate=0.1, max_depth=5, n_estimators=100; total time=  17.6s\n",
      "[CV] END ...learning_rate=0.1, max_depth=5, n_estimators=100; total time=  14.6s\n",
      "[CV] END ...learning_rate=0.1, max_depth=5, n_estimators=100; total time=  16.7s\n",
      "[CV] END ...learning_rate=0.1, max_depth=5, n_estimators=200; total time=  36.4s\n",
      "[CV] END ...learning_rate=0.1, max_depth=5, n_estimators=200; total time=  20.0s\n",
      "[CV] END ...learning_rate=0.1, max_depth=5, n_estimators=200; total time=  18.0s\n",
      "[CV] END ...learning_rate=0.1, max_depth=5, n_estimators=200; total time=  17.4s\n",
      "[CV] END ...learning_rate=0.1, max_depth=5, n_estimators=200; total time=  18.0s\n",
      "[CV] END ...learning_rate=0.1, max_depth=5, n_estimators=300; total time=  26.9s\n",
      "[CV] END ...learning_rate=0.1, max_depth=5, n_estimators=300; total time=  26.5s\n",
      "[CV] END ...learning_rate=0.1, max_depth=5, n_estimators=300; total time=  28.0s\n",
      "[CV] END ...learning_rate=0.1, max_depth=5, n_estimators=300; total time=  43.0s\n",
      "[CV] END ...learning_rate=0.1, max_depth=5, n_estimators=300; total time=  42.0s\n",
      "[CV] END ..learning_rate=0.01, max_depth=3, n_estimators=100; total time=   9.0s\n",
      "[CV] END ..learning_rate=0.01, max_depth=3, n_estimators=100; total time=   7.8s\n",
      "[CV] END ..learning_rate=0.01, max_depth=3, n_estimators=100; total time=   7.8s\n",
      "[CV] END ..learning_rate=0.01, max_depth=3, n_estimators=100; total time=   8.3s\n",
      "[CV] END ..learning_rate=0.01, max_depth=3, n_estimators=100; total time=   8.1s\n",
      "[CV] END ..learning_rate=0.01, max_depth=3, n_estimators=200; total time=  17.4s\n",
      "[CV] END ..learning_rate=0.01, max_depth=3, n_estimators=200; total time=  17.4s\n",
      "[CV] END ..learning_rate=0.01, max_depth=3, n_estimators=200; total time=  16.9s\n",
      "[CV] END ..learning_rate=0.01, max_depth=3, n_estimators=200; total time=  17.6s\n",
      "[CV] END ..learning_rate=0.01, max_depth=3, n_estimators=200; total time=  18.4s\n",
      "[CV] END ..learning_rate=0.01, max_depth=3, n_estimators=300; total time=  30.0s\n",
      "[CV] END ..learning_rate=0.01, max_depth=3, n_estimators=300; total time=  31.1s\n",
      "[CV] END ..learning_rate=0.01, max_depth=3, n_estimators=300; total time=  32.2s\n",
      "[CV] END ..learning_rate=0.01, max_depth=3, n_estimators=300; total time=  32.6s\n",
      "[CV] END ..learning_rate=0.01, max_depth=3, n_estimators=300; total time=  30.7s\n",
      "[CV] END ..learning_rate=0.01, max_depth=4, n_estimators=100; total time=  11.5s\n",
      "[CV] END ..learning_rate=0.01, max_depth=4, n_estimators=100; total time=  12.1s\n",
      "[CV] END ..learning_rate=0.01, max_depth=4, n_estimators=100; total time=  11.1s\n",
      "[CV] END ..learning_rate=0.01, max_depth=4, n_estimators=100; total time=  11.1s\n",
      "[CV] END ..learning_rate=0.01, max_depth=4, n_estimators=100; total time=  11.0s\n",
      "[CV] END ..learning_rate=0.01, max_depth=4, n_estimators=200; total time=  23.6s\n",
      "[CV] END ..learning_rate=0.01, max_depth=4, n_estimators=200; total time=  26.2s\n",
      "[CV] END ..learning_rate=0.01, max_depth=4, n_estimators=200; total time=  22.0s\n",
      "[CV] END ..learning_rate=0.01, max_depth=4, n_estimators=200; total time=  22.8s\n",
      "[CV] END ..learning_rate=0.01, max_depth=4, n_estimators=200; total time=  20.8s\n",
      "[CV] END ..learning_rate=0.01, max_depth=4, n_estimators=300; total time=  32.1s\n",
      "[CV] END ..learning_rate=0.01, max_depth=4, n_estimators=300; total time=  33.8s\n",
      "[CV] END ..learning_rate=0.01, max_depth=4, n_estimators=300; total time=  44.2s\n",
      "[CV] END ..learning_rate=0.01, max_depth=4, n_estimators=300; total time=  39.4s\n",
      "[CV] END ..learning_rate=0.01, max_depth=4, n_estimators=300; total time=  43.9s\n",
      "[CV] END ..learning_rate=0.01, max_depth=5, n_estimators=100; total time=  16.3s\n",
      "[CV] END ..learning_rate=0.01, max_depth=5, n_estimators=100; total time=  16.4s\n",
      "[CV] END ..learning_rate=0.01, max_depth=5, n_estimators=100; total time=  14.6s\n",
      "[CV] END ..learning_rate=0.01, max_depth=5, n_estimators=100; total time=  16.0s\n",
      "[CV] END ..learning_rate=0.01, max_depth=5, n_estimators=100; total time=  15.6s\n",
      "[CV] END ..learning_rate=0.01, max_depth=5, n_estimators=200; total time=  34.0s\n",
      "[CV] END ..learning_rate=0.01, max_depth=5, n_estimators=200; total time=  27.5s\n",
      "[CV] END ..learning_rate=0.01, max_depth=5, n_estimators=200; total time=  14.8s\n",
      "[CV] END ..learning_rate=0.01, max_depth=5, n_estimators=200; total time=  16.1s\n",
      "[CV] END ..learning_rate=0.01, max_depth=5, n_estimators=200; total time=  16.6s\n",
      "[CV] END ..learning_rate=0.01, max_depth=5, n_estimators=300; total time=  26.4s\n",
      "[CV] END ..learning_rate=0.01, max_depth=5, n_estimators=300; total time=  25.3s\n",
      "[CV] END ..learning_rate=0.01, max_depth=5, n_estimators=300; total time=  27.8s\n",
      "[CV] END ..learning_rate=0.01, max_depth=5, n_estimators=300; total time=  28.5s\n",
      "[CV] END ..learning_rate=0.01, max_depth=5, n_estimators=300; total time=  39.2s\n",
      "[CV] END .learning_rate=0.001, max_depth=3, n_estimators=100; total time=  10.3s\n",
      "[CV] END .learning_rate=0.001, max_depth=3, n_estimators=100; total time=  11.8s\n",
      "[CV] END .learning_rate=0.001, max_depth=3, n_estimators=100; total time=   7.0s\n",
      "[CV] END .learning_rate=0.001, max_depth=3, n_estimators=100; total time=   6.1s\n",
      "[CV] END .learning_rate=0.001, max_depth=3, n_estimators=100; total time=   6.2s\n",
      "[CV] END .learning_rate=0.001, max_depth=3, n_estimators=200; total time=  13.2s\n",
      "[CV] END .learning_rate=0.001, max_depth=3, n_estimators=200; total time=  13.5s\n",
      "[CV] END .learning_rate=0.001, max_depth=3, n_estimators=200; total time=  13.0s\n",
      "[CV] END .learning_rate=0.001, max_depth=3, n_estimators=200; total time=  15.0s\n",
      "[CV] END .learning_rate=0.001, max_depth=3, n_estimators=200; total time=  15.1s\n",
      "[CV] END .learning_rate=0.001, max_depth=3, n_estimators=300; total time=  24.0s\n"
     ]
    },
    {
     "name": "stdout",
     "output_type": "stream",
     "text": [
      "[CV] END .learning_rate=0.001, max_depth=3, n_estimators=300; total time=  23.8s\n",
      "[CV] END .learning_rate=0.001, max_depth=3, n_estimators=300; total time=  22.5s\n",
      "[CV] END .learning_rate=0.001, max_depth=3, n_estimators=300; total time=  24.5s\n",
      "[CV] END .learning_rate=0.001, max_depth=3, n_estimators=300; total time=  26.2s\n",
      "[CV] END .learning_rate=0.001, max_depth=4, n_estimators=100; total time=  10.5s\n",
      "[CV] END .learning_rate=0.001, max_depth=4, n_estimators=100; total time=  10.5s\n",
      "[CV] END .learning_rate=0.001, max_depth=4, n_estimators=100; total time=   9.8s\n",
      "[CV] END .learning_rate=0.001, max_depth=4, n_estimators=100; total time=  11.4s\n",
      "[CV] END .learning_rate=0.001, max_depth=4, n_estimators=100; total time=  11.1s\n",
      "[CV] END .learning_rate=0.001, max_depth=4, n_estimators=200; total time=  22.8s\n",
      "[CV] END .learning_rate=0.001, max_depth=4, n_estimators=200; total time=  23.6s\n",
      "[CV] END .learning_rate=0.001, max_depth=4, n_estimators=200; total time=  21.5s\n",
      "[CV] END .learning_rate=0.001, max_depth=4, n_estimators=200; total time=  23.2s\n",
      "[CV] END .learning_rate=0.001, max_depth=4, n_estimators=200; total time=  23.7s\n",
      "[CV] END .learning_rate=0.001, max_depth=4, n_estimators=300; total time=  33.9s\n",
      "[CV] END .learning_rate=0.001, max_depth=4, n_estimators=300; total time=  36.5s\n",
      "[CV] END .learning_rate=0.001, max_depth=4, n_estimators=300; total time=  29.6s\n",
      "[CV] END .learning_rate=0.001, max_depth=4, n_estimators=300; total time=  32.2s\n",
      "[CV] END .learning_rate=0.001, max_depth=4, n_estimators=300; total time=  31.1s\n",
      "[CV] END .learning_rate=0.001, max_depth=5, n_estimators=100; total time=  12.0s\n",
      "[CV] END .learning_rate=0.001, max_depth=5, n_estimators=100; total time=  13.4s\n",
      "[CV] END .learning_rate=0.001, max_depth=5, n_estimators=100; total time=  12.1s\n",
      "[CV] END .learning_rate=0.001, max_depth=5, n_estimators=100; total time=  14.8s\n",
      "[CV] END .learning_rate=0.001, max_depth=5, n_estimators=100; total time=  13.9s\n",
      "[CV] END .learning_rate=0.001, max_depth=5, n_estimators=200; total time=  24.3s\n",
      "[CV] END .learning_rate=0.001, max_depth=5, n_estimators=200; total time=  24.5s\n",
      "[CV] END .learning_rate=0.001, max_depth=5, n_estimators=200; total time=  21.9s\n",
      "[CV] END .learning_rate=0.001, max_depth=5, n_estimators=200; total time=  24.6s\n",
      "[CV] END .learning_rate=0.001, max_depth=5, n_estimators=200; total time=  26.2s\n",
      "[CV] END .learning_rate=0.001, max_depth=5, n_estimators=300; total time=  37.2s\n",
      "[CV] END .learning_rate=0.001, max_depth=5, n_estimators=300; total time=  37.0s\n",
      "[CV] END .learning_rate=0.001, max_depth=5, n_estimators=300; total time=  33.1s\n",
      "[CV] END .learning_rate=0.001, max_depth=5, n_estimators=300; total time=  34.8s\n",
      "[CV] END .learning_rate=0.001, max_depth=5, n_estimators=300; total time=  34.8s\n"
     ]
    },
    {
     "data": {
      "text/plain": [
       "GridSearchCV(cv=5,\n",
       "             estimator=XGBClassifier(base_score=None, booster=None,\n",
       "                                     callbacks=None, colsample_bylevel=None,\n",
       "                                     colsample_bynode=None,\n",
       "                                     colsample_bytree=None,\n",
       "                                     early_stopping_rounds=None,\n",
       "                                     enable_categorical=False, eval_metric=None,\n",
       "                                     feature_types=None, gamma=None,\n",
       "                                     gpu_id=None, grow_policy=None,\n",
       "                                     importance_type=None,\n",
       "                                     interaction_constraints=None,\n",
       "                                     learning_rate=None,...\n",
       "                                     max_cat_threshold=None,\n",
       "                                     max_cat_to_onehot=None,\n",
       "                                     max_delta_step=None, max_depth=None,\n",
       "                                     max_leaves=None, min_child_weight=None,\n",
       "                                     missing=nan, monotone_constraints=None,\n",
       "                                     n_estimators=100, n_jobs=None,\n",
       "                                     num_parallel_tree=None, predictor=None,\n",
       "                                     random_state=None, ...),\n",
       "             param_grid={'learning_rate': [0.1, 0.01, 0.001],\n",
       "                         'max_depth': [3, 4, 5],\n",
       "                         'n_estimators': [100, 200, 300]},\n",
       "             scoring='accuracy', verbose=2)"
      ]
     },
     "execution_count": 138,
     "metadata": {},
     "output_type": "execute_result"
    }
   ],
   "source": [
    "# Perform grid search to find the best parameters\n",
    "grid_search = GridSearchCV(xgb_model, param_grid, cv=5, scoring='accuracy', verbose=2)\n",
    "grid_search.fit(X, y_a)"
   ]
  },
  {
   "cell_type": "code",
   "execution_count": 139,
   "id": "bf41adfb",
   "metadata": {},
   "outputs": [
    {
     "data": {
      "text/plain": [
       "XGBClassifier(base_score=None, booster=None, callbacks=None,\n",
       "              colsample_bylevel=None, colsample_bynode=None,\n",
       "              colsample_bytree=None, early_stopping_rounds=None,\n",
       "              enable_categorical=False, eval_metric=None, feature_types=None,\n",
       "              gamma=None, gpu_id=None, grow_policy=None, importance_type=None,\n",
       "              interaction_constraints=None, learning_rate=0.01, max_bin=None,\n",
       "              max_cat_threshold=None, max_cat_to_onehot=None,\n",
       "              max_delta_step=None, max_depth=4, max_leaves=None,\n",
       "              min_child_weight=None, missing=nan, monotone_constraints=None,\n",
       "              n_estimators=200, n_jobs=None, num_parallel_tree=None,\n",
       "              predictor=None, random_state=None, ...)"
      ]
     },
     "execution_count": 139,
     "metadata": {},
     "output_type": "execute_result"
    }
   ],
   "source": [
    "# Get the best hyperparameters and model\n",
    "best_params = grid_search.best_params_\n",
    "best_model = grid_search.best_estimator_\n",
    "#print(best_params,best_model)\n",
    "best_model.fit(X, y_a)"
   ]
  },
  {
   "cell_type": "code",
   "execution_count": 51,
   "id": "f30c5975",
   "metadata": {},
   "outputs": [
    {
     "data": {
      "text/plain": [
       "['output_files/models/RF_best_model.pkl']"
      ]
     },
     "execution_count": 51,
     "metadata": {},
     "output_type": "execute_result"
    }
   ],
   "source": [
    "import joblib\n",
    "\n",
    "# Save the model with the best hyperparameters\n",
    "joblib.dump(best_model, f'output_files/models/{eventlog_name}_XGB_best_model.pkl')"
   ]
  }
 ],
 "metadata": {
  "kernelspec": {
   "display_name": "Python 3 (ipykernel)",
   "language": "python",
   "name": "python3"
  },
  "language_info": {
   "codemirror_mode": {
    "name": "ipython",
    "version": 3
   },
   "file_extension": ".py",
   "mimetype": "text/x-python",
   "name": "python",
   "nbconvert_exporter": "python",
   "pygments_lexer": "ipython3",
   "version": "3.9.12"
  }
 },
 "nbformat": 4,
 "nbformat_minor": 5
}
