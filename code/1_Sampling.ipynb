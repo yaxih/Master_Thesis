{
 "cells": [
  {
   "cell_type": "code",
   "execution_count": 23,
   "id": "a1bd9f29",
   "metadata": {},
   "outputs": [],
   "source": [
    "from datetime import datetime\n",
    "import pandas as pd\n",
    "import random\n",
    "import numpy as np"
   ]
  },
  {
   "cell_type": "markdown",
   "id": "803f8c40",
   "metadata": {},
   "source": [
    "## BPI12 - Ruduce Size"
   ]
  },
  {
   "cell_type": "code",
   "execution_count": 36,
   "id": "4dc1002e",
   "metadata": {},
   "outputs": [],
   "source": [
    "eventlog = \"bpi_12_w.csv\""
   ]
  },
  {
   "cell_type": "code",
   "execution_count": 88,
   "id": "173dca81",
   "metadata": {},
   "outputs": [],
   "source": [
    "df = pd.read_csv('../data/%s' % eventlog)"
   ]
  },
  {
   "cell_type": "code",
   "execution_count": 4,
   "id": "899dfced",
   "metadata": {},
   "outputs": [
    {
     "data": {
      "text/html": [
       "<div>\n",
       "<style scoped>\n",
       "    .dataframe tbody tr th:only-of-type {\n",
       "        vertical-align: middle;\n",
       "    }\n",
       "\n",
       "    .dataframe tbody tr th {\n",
       "        vertical-align: top;\n",
       "    }\n",
       "\n",
       "    .dataframe thead th {\n",
       "        text-align: right;\n",
       "    }\n",
       "</style>\n",
       "<table border=\"1\" class=\"dataframe\">\n",
       "  <thead>\n",
       "    <tr style=\"text-align: right;\">\n",
       "      <th></th>\n",
       "      <th>CaseID</th>\n",
       "      <th>ActivityID</th>\n",
       "      <th>CompleteTimestamp</th>\n",
       "    </tr>\n",
       "  </thead>\n",
       "  <tbody>\n",
       "    <tr>\n",
       "      <th>0</th>\n",
       "      <td>173688</td>\n",
       "      <td>3</td>\n",
       "      <td>2011-10-01 19:45:13</td>\n",
       "    </tr>\n",
       "    <tr>\n",
       "      <th>1</th>\n",
       "      <td>173688</td>\n",
       "      <td>5</td>\n",
       "      <td>2011-10-01 20:17:08</td>\n",
       "    </tr>\n",
       "    <tr>\n",
       "      <th>2</th>\n",
       "      <td>173688</td>\n",
       "      <td>5</td>\n",
       "      <td>2011-10-09 00:32:00</td>\n",
       "    </tr>\n",
       "  </tbody>\n",
       "</table>\n",
       "</div>"
      ],
      "text/plain": [
       "   CaseID  ActivityID    CompleteTimestamp\n",
       "0  173688           3  2011-10-01 19:45:13\n",
       "1  173688           5  2011-10-01 20:17:08\n",
       "2  173688           5  2011-10-09 00:32:00"
      ]
     },
     "execution_count": 4,
     "metadata": {},
     "output_type": "execute_result"
    }
   ],
   "source": [
    "df.head(3)"
   ]
  },
  {
   "cell_type": "code",
   "execution_count": 5,
   "id": "b584d47a",
   "metadata": {},
   "outputs": [],
   "source": [
    "CaseID = df['CaseID'].unique()"
   ]
  },
  {
   "cell_type": "code",
   "execution_count": 6,
   "id": "c57f9674",
   "metadata": {},
   "outputs": [],
   "source": [
    "random.seed(42)\n",
    "\n",
    "# Randomly select half of the case IDs\n",
    "sampled_CaseID = random.sample(list(CaseID), k=len(CaseID)//2)"
   ]
  },
  {
   "cell_type": "code",
   "execution_count": 7,
   "id": "9e2796d0",
   "metadata": {},
   "outputs": [],
   "source": [
    "# Filter the original dataset based on the sampled Case IDs\n",
    "filtered_df = df[df['CaseID'].isin(sampled_CaseID)]"
   ]
  },
  {
   "cell_type": "code",
   "execution_count": 8,
   "id": "1e264075",
   "metadata": {},
   "outputs": [],
   "source": [
    "# Store the filtered dataset\n",
    "filtered_df.to_csv('../data/randomsampled_%s' % eventlog, index=False)"
   ]
  },
  {
   "cell_type": "markdown",
   "id": "cefac26e",
   "metadata": {},
   "source": [
    "## BPI12 - Increase Representation"
   ]
  },
  {
   "cell_type": "code",
   "execution_count": 38,
   "id": "85f87db1",
   "metadata": {},
   "outputs": [
    {
     "name": "stdout",
     "output_type": "stream",
     "text": [
      "      CaseID  UniqueActivityCount  ReworkActivityCount\n",
      "0     173688                    3                    2\n",
      "1     173691                    3                    6\n",
      "2     173694                    3                   13\n",
      "3     173703                    1                    1\n",
      "4     173706                    2                    2\n",
      "...      ...                  ...                  ...\n",
      "9653  214361                    3                    4\n",
      "9654  214364                    2                    4\n",
      "9655  214370                    1                    0\n",
      "9656  214373                    3                    0\n",
      "9657  214376                    1                    0\n",
      "\n",
      "[9658 rows x 3 columns]\n"
     ]
    }
   ],
   "source": [
    "# Calculate unique activity IDs per case\n",
    "unique_activities_per_case = df.groupby('CaseID')['ActivityID'].nunique()\n",
    "\n",
    "# Calculate rework activities per case\n",
    "total_activities_per_case = df.groupby('CaseID')['ActivityID'].count()\n",
    "rework_activities_per_case = total_activities_per_case - unique_activities_per_case\n",
    "\n",
    "# Print the results\n",
    "results = pd.DataFrame({\n",
    "    'CaseID': unique_activities_per_case.index,\n",
    "    'UniqueActivityCount': unique_activities_per_case.values,\n",
    "    'ReworkActivityCount': rework_activities_per_case.values\n",
    "})\n",
    "print(results)"
   ]
  },
  {
   "cell_type": "code",
   "execution_count": 69,
   "id": "594f3bc7",
   "metadata": {},
   "outputs": [],
   "source": [
    "# Filter the cases where the count of rework activities is less than 8\n",
    "filtered_cases = rework_activities_per_case[rework_activities_per_case < 7].index\n",
    "\n",
    "# Filter the original dataset based on the filtered cases\n",
    "filtered_df2 = df[df['CaseID'].isin(filtered_cases)]"
   ]
  },
  {
   "cell_type": "code",
   "execution_count": 70,
   "id": "dc527631",
   "metadata": {},
   "outputs": [],
   "source": [
    "# Store the filtered dataset\n",
    "filtered_df2.to_csv('../data/7sampled_%s' % eventlog, index=False)"
   ]
  },
  {
   "cell_type": "code",
   "execution_count": 64,
   "id": "a2fdffe6",
   "metadata": {},
   "outputs": [],
   "source": [
    "# Filter the cases where there are no rework in the case and length>2\n",
    "norework_cases = df.groupby('CaseID').filter(lambda x: (total_activities_per_case[x.name] == unique_activities_per_case[x.name] ) and (len(x) > 2))['CaseID'].unique()\n",
    "\n",
    "# Filter the original dataset based on the filtered cases\n",
    "norework = df[df['CaseID'].isin(norework_cases)]"
   ]
  },
  {
   "cell_type": "code",
   "execution_count": 66,
   "id": "b8163ecf",
   "metadata": {},
   "outputs": [],
   "source": [
    "# Store the filtered dataset\n",
    "norework.to_csv('../data/norework_%s' % eventlog, index=False)"
   ]
  },
  {
   "cell_type": "markdown",
   "id": "82185031",
   "metadata": {},
   "source": [
    "## helpdesk - Increase Size"
   ]
  },
  {
   "cell_type": "code",
   "execution_count": 90,
   "id": "1e42056c",
   "metadata": {},
   "outputs": [],
   "source": [
    "eventlog = \"helpdesk.csv\"\n",
    "df = pd.read_csv('../data/%s' % eventlog)"
   ]
  },
  {
   "cell_type": "code",
   "execution_count": 91,
   "id": "de22ba33",
   "metadata": {},
   "outputs": [],
   "source": [
    "CaseID = df['CaseID'].unique()\n",
    "random.seed(42)\n",
    "\n",
    "# Randomly select half of the case IDs\n",
    "sampled_CaseID = random.sample(list(CaseID), k=len(CaseID)//2)"
   ]
  },
  {
   "cell_type": "code",
   "execution_count": 92,
   "id": "fa458f1b",
   "metadata": {},
   "outputs": [],
   "source": [
    "# Filter the original dataset based on the sampled Case IDs\n",
    "filtered_df = df[df['CaseID'].isin(sampled_CaseID)]"
   ]
  },
  {
   "cell_type": "code",
   "execution_count": 93,
   "id": "d8b7c29b",
   "metadata": {},
   "outputs": [],
   "source": [
    "# Store the filtered dataset\n",
    "filtered_df.to_csv('../data/randomsampled_%s' % eventlog, index=False)"
   ]
  },
  {
   "cell_type": "markdown",
   "id": "5334b10e",
   "metadata": {},
   "source": [
    "## Env Permit - Reducee Variability"
   ]
  },
  {
   "cell_type": "code",
   "execution_count": 108,
   "id": "7232436a",
   "metadata": {},
   "outputs": [],
   "source": [
    "eventlog = \"preprocessed_env_frequent.csv\"\n",
    "df = pd.read_csv('../data/%s' % eventlog)"
   ]
  },
  {
   "cell_type": "code",
   "execution_count": 114,
   "id": "ae0d9bd3",
   "metadata": {},
   "outputs": [],
   "source": [
    "repeat_times = 30\n",
    "new_data = pd.DataFrame()\n",
    "\n",
    "for repeat in range(1, repeat_times + 1):\n",
    "    df_copy = df.copy()\n",
    "    df_copy['CaseID'] = str(repeat).zfill(2) + df_copy['CaseID'].astype(str)\n",
    "    new_data = pd.concat([new_data, df_copy])\n",
    "\n",
    "# Reset the index of the new_data DataFrame\n",
    "new_data.reset_index(drop=True, inplace=True)"
   ]
  },
  {
   "cell_type": "code",
   "execution_count": 115,
   "id": "d70ef3e6",
   "metadata": {},
   "outputs": [
    {
     "data": {
      "text/html": [
       "<div>\n",
       "<style scoped>\n",
       "    .dataframe tbody tr th:only-of-type {\n",
       "        vertical-align: middle;\n",
       "    }\n",
       "\n",
       "    .dataframe tbody tr th {\n",
       "        vertical-align: top;\n",
       "    }\n",
       "\n",
       "    .dataframe thead th {\n",
       "        text-align: right;\n",
       "    }\n",
       "</style>\n",
       "<table border=\"1\" class=\"dataframe\">\n",
       "  <thead>\n",
       "    <tr style=\"text-align: right;\">\n",
       "      <th></th>\n",
       "      <th>CaseID</th>\n",
       "      <th>ActivityID</th>\n",
       "      <th>CompleteTimestamp</th>\n",
       "    </tr>\n",
       "  </thead>\n",
       "  <tbody>\n",
       "    <tr>\n",
       "      <th>0</th>\n",
       "      <td>012876753</td>\n",
       "      <td>23</td>\n",
       "      <td>2010-11-23 09:00:00</td>\n",
       "    </tr>\n",
       "    <tr>\n",
       "      <th>1</th>\n",
       "      <td>012876753</td>\n",
       "      <td>28</td>\n",
       "      <td>2010-11-23 09:00:00</td>\n",
       "    </tr>\n",
       "    <tr>\n",
       "      <th>2</th>\n",
       "      <td>012876753</td>\n",
       "      <td>25</td>\n",
       "      <td>2010-11-24 00:00:09</td>\n",
       "    </tr>\n",
       "    <tr>\n",
       "      <th>3</th>\n",
       "      <td>012876753</td>\n",
       "      <td>26</td>\n",
       "      <td>2010-11-24 00:00:16</td>\n",
       "    </tr>\n",
       "    <tr>\n",
       "      <th>4</th>\n",
       "      <td>012876753</td>\n",
       "      <td>27</td>\n",
       "      <td>2010-11-26 20:17:18</td>\n",
       "    </tr>\n",
       "    <tr>\n",
       "      <th>...</th>\n",
       "      <td>...</td>\n",
       "      <td>...</td>\n",
       "      <td>...</td>\n",
       "    </tr>\n",
       "    <tr>\n",
       "      <th>7135</th>\n",
       "      <td>304573766</td>\n",
       "      <td>26</td>\n",
       "      <td>2012-02-14 17:54:21</td>\n",
       "    </tr>\n",
       "    <tr>\n",
       "      <th>7136</th>\n",
       "      <td>305271267</td>\n",
       "      <td>23</td>\n",
       "      <td>2012-07-06 08:00:00</td>\n",
       "    </tr>\n",
       "    <tr>\n",
       "      <th>7137</th>\n",
       "      <td>305271267</td>\n",
       "      <td>24</td>\n",
       "      <td>2012-07-09 18:19:26</td>\n",
       "    </tr>\n",
       "    <tr>\n",
       "      <th>7138</th>\n",
       "      <td>305271267</td>\n",
       "      <td>25</td>\n",
       "      <td>2012-07-09 18:19:26</td>\n",
       "    </tr>\n",
       "    <tr>\n",
       "      <th>7139</th>\n",
       "      <td>305271267</td>\n",
       "      <td>26</td>\n",
       "      <td>2012-07-09 18:19:29</td>\n",
       "    </tr>\n",
       "  </tbody>\n",
       "</table>\n",
       "<p>7140 rows × 3 columns</p>\n",
       "</div>"
      ],
      "text/plain": [
       "         CaseID  ActivityID    CompleteTimestamp\n",
       "0     012876753          23  2010-11-23 09:00:00\n",
       "1     012876753          28  2010-11-23 09:00:00\n",
       "2     012876753          25  2010-11-24 00:00:09\n",
       "3     012876753          26  2010-11-24 00:00:16\n",
       "4     012876753          27  2010-11-26 20:17:18\n",
       "...         ...         ...                  ...\n",
       "7135  304573766          26  2012-02-14 17:54:21\n",
       "7136  305271267          23  2012-07-06 08:00:00\n",
       "7137  305271267          24  2012-07-09 18:19:26\n",
       "7138  305271267          25  2012-07-09 18:19:26\n",
       "7139  305271267          26  2012-07-09 18:19:29\n",
       "\n",
       "[7140 rows x 3 columns]"
      ]
     },
     "execution_count": 115,
     "metadata": {},
     "output_type": "execute_result"
    }
   ],
   "source": [
    " new_data"
   ]
  },
  {
   "cell_type": "code",
   "execution_count": 117,
   "id": "ecc7847f",
   "metadata": {},
   "outputs": [],
   "source": [
    "# Store the new dataset\n",
    "new_data.to_csv('../data/30times_%s' % eventlog, index=False)"
   ]
  },
  {
   "cell_type": "code",
   "execution_count": null,
   "id": "3f47304c",
   "metadata": {},
   "outputs": [],
   "source": []
  }
 ],
 "metadata": {
  "kernelspec": {
   "display_name": "Python 3 (ipykernel)",
   "language": "python",
   "name": "python3"
  },
  "language_info": {
   "codemirror_mode": {
    "name": "ipython",
    "version": 3
   },
   "file_extension": ".py",
   "mimetype": "text/x-python",
   "name": "python",
   "nbconvert_exporter": "python",
   "pygments_lexer": "ipython3",
   "version": "3.9.12"
  }
 },
 "nbformat": 4,
 "nbformat_minor": 5
}
