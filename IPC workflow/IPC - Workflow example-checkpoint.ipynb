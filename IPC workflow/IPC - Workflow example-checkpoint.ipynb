{
 "cells": [
  {
   "cell_type": "markdown",
   "metadata": {},
   "source": [
    "# Process Clustering\n",
    "\n",
    "* Nach dem _Divide_ and _Conquer_ Prinizip können Clusterverfahren bei der komplexitätsreduktion von sogenannten Spaghettimodellen unterstützen\n",
    "\n",
    "* Prozesse werden anhand ihrer Ähnlichkeit gruppiert\n",
    "* Aus diesen Gruppen werden dann M"
   ]
  },
  {
   "cell_type": "code",
   "execution_count": 2,
   "metadata": {},
   "outputs": [],
   "source": [
    "from pm4py.objects.log.importer.xes import factory as xes_import_factory\n",
    "from pm4py.algo.discovery.alpha import factory as alpha_miner\n",
    "from pm4py.visualization.petrinet import factory as pn_vis_factory"
   ]
  },
  {
   "cell_type": "markdown",
   "metadata": {},
   "source": [
    "## Data import and preparation\n",
    "\n",
    "* Load the XES file using the pm4py importer\n",
    "* Build the instances in a nested list structure"
   ]
  },
  {
   "cell_type": "code",
   "execution_count": 3,
   "metadata": {},
   "outputs": [],
   "source": [
    "DATAFILE = 'data/mobis_challenge_log_2019.xes'\n",
    "# DATAFILE = 'data/dataset.xes'\n",
    "log = xes_import_factory.apply(DATAFILE)\n",
    "\n",
    "log_set = []\n",
    "DATASET = ['data/bpi_2012.xes', \n",
    "             'data/bpi_2017.xes',\n",
    "            'data/mobis_challenge_log_2019.xes']\n",
    "\n",
    "for i_log in DATASET:\n",
    "    tmp_log = xes_import_factory.apply(i_log)\n",
    "    tmp_encoding = [[i['concept:name'] for i in n] for n in tmp_log]\n",
    "    log_set.append((i_log, tmp_encoding))"
   ]
  },
  {
   "cell_type": "code",
   "execution_count": 3,
   "metadata": {},
   "outputs": [
    {
     "data": {
      "text/plain": [
       "['A_SUBMITTED',\n",
       " 'A_PARTLYSUBMITTED',\n",
       " 'W_Afhandelen leads',\n",
       " 'W_Afhandelen leads',\n",
       " 'A_PREACCEPTED',\n",
       " 'W_Completeren aanvraag',\n",
       " 'W_Afhandelen leads',\n",
       " 'W_Completeren aanvraag',\n",
       " 'A_ACCEPTED',\n",
       " 'A_FINALIZED',\n",
       " 'O_SELECTED',\n",
       " 'O_CREATED',\n",
       " 'O_SENT',\n",
       " 'W_Nabellen offertes',\n",
       " 'W_Completeren aanvraag',\n",
       " 'W_Nabellen offertes',\n",
       " 'W_Nabellen offertes',\n",
       " 'W_Nabellen offertes',\n",
       " 'W_Nabellen offertes',\n",
       " 'W_Nabellen offertes',\n",
       " 'W_Nabellen offertes',\n",
       " 'W_Nabellen offertes',\n",
       " 'W_Nabellen offertes',\n",
       " 'W_Nabellen offertes',\n",
       " 'W_Nabellen offertes',\n",
       " 'W_Nabellen offertes',\n",
       " 'W_Nabellen offertes',\n",
       " 'W_Nabellen offertes',\n",
       " 'W_Nabellen offertes',\n",
       " 'W_Nabellen offertes',\n",
       " 'W_Nabellen offertes',\n",
       " 'W_Nabellen offertes',\n",
       " 'W_Nabellen offertes',\n",
       " 'W_Nabellen offertes',\n",
       " 'W_Nabellen offertes',\n",
       " 'W_Nabellen offertes',\n",
       " 'W_Nabellen offertes',\n",
       " 'W_Nabellen offertes',\n",
       " 'O_CANCELLED',\n",
       " 'A_CANCELLED']"
      ]
     },
     "execution_count": 3,
     "metadata": {},
     "output_type": "execute_result"
    }
   ],
   "source": [
    "log_set[0][1][100]"
   ]
  },
  {
   "cell_type": "code",
   "execution_count": 4,
   "metadata": {},
   "outputs": [
    {
     "data": {
      "text/plain": [
       "['send original documents to archive',\n",
       " 'send original documents to archive',\n",
       " 'calculate payments',\n",
       " 'calculate payments',\n",
       " 'pay expenses',\n",
       " 'pay expenses']"
      ]
     },
     "execution_count": 4,
     "metadata": {},
     "output_type": "execute_result"
    }
   ],
   "source": [
    "# Nested list comprehension to generate a list of for the process instances\n",
    "trace = [[i['concept:name'] for i in n] for n in log]\n",
    "trace[100]"
   ]
  },
  {
   "cell_type": "markdown",
   "metadata": {},
   "source": [
    "## Generate feature vektors\n",
    "* This can be done using the imoplemented Levenshtein or the imported DamreuLevenshtein Distance\n",
    "* This could/should make use of the multi processing lib to enhance the performance\n",
    "* Final step is to generate the full matrix using A+At"
   ]
  },
  {
   "cell_type": "code",
   "execution_count": 4,
   "metadata": {},
   "outputs": [],
   "source": [
    "import numpy as np\n",
    "import multiprocessing\n",
    "from functools import partial\n",
    "import time\n",
    "from pyxdameraulevenshtein import damerau_levenshtein_distance, normalized_damerau_levenshtein_distance"
   ]
  },
  {
   "cell_type": "code",
   "execution_count": 5,
   "metadata": {},
   "outputs": [],
   "source": [
    "def levenshtein(a,b):\n",
    "    \"\"\" Calculates the Levenshtein distance \n",
    "    \n",
    "    \n",
    "    \"\"\"\n",
    "    \n",
    "    distance = 0\n",
    "    la, lb = len(a), len(b) \n",
    "    \n",
    "    if la > lb:\n",
    "        a, b = b, a\n",
    "        la, lb = lb, la\n",
    "        \n",
    "    for n in range(len(a)):\n",
    "        if not a[n] == b[n]:\n",
    "            distance += 1\n",
    "            \n",
    "    distance += lb - la\n",
    "    \n",
    "    return distance\n",
    "\n",
    "def percentage_of_common_activities(a, b):\n",
    "    \"\"\" \"\"\"\n",
    "\n",
    "    la, lb = len(a), len(b)\n",
    "    n1 = 0\n",
    "    n2 = 0\n",
    "\n",
    "    for i in range(la):\n",
    "        if a[i] in b:\n",
    "            n1 += 1\n",
    "\n",
    "    for i in range(lb):\n",
    "        if b[i] in a:\n",
    "            n2 += 1\n",
    "\n",
    "    distance = (n1 + n2) / (la + lb)\n",
    "    return 1 - distance"
   ]
  },
  {
   "cell_type": "code",
   "execution_count": 8,
   "metadata": {},
   "outputs": [],
   "source": [
    "import pickle\n",
    "\n",
    "def store_model(model, filename='output.pck'):\n",
    "    \n",
    "    with open(filename, 'wb') as f:\n",
    "        pickle.dump(model, f)\n",
    "        \n",
    "\n",
    "def load_model(filename='output.pck'):\n",
    "    with open(filename, 'rb') as f:\n",
    "        res = pickle.load(f)\n",
    "        \n",
    "    return res"
   ]
  },
  {
   "cell_type": "code",
   "execution_count": 9,
   "metadata": {},
   "outputs": [
    {
     "name": "stdout",
     "output_type": "stream",
     "text": [
      "Starting sim data/bpi_2012.xes\n",
      "Finished data/bpi_2012.xes\n",
      "Starting sim data/bpi_2017.xes\n",
      "Finished data/bpi_2017.xes\n",
      "Starting sim data/mobis_challenge_log_2019.xes\n",
      "Finished data/mobis_challenge_log_2019.xes\n"
     ]
    }
   ],
   "source": [
    "\"\"\"\n",
    "Calculate the computation time for the given sest of bpi challenge data\n",
    "\"\"\"\n",
    "\n",
    "from sklearn.manifold import TSNE\n",
    "\n",
    "\n",
    "def calculate_simmatrix(func, trace):\n",
    "    \n",
    "    p = multiprocessing.Pool(26)\n",
    "    res = []\n",
    "    \n",
    "    for i in range(len(trace)):\n",
    "        a = trace[i]\n",
    "        row = [0 for n in range(i)]\n",
    "        ex = partial(func, a)\n",
    "        row.extend(p.map(ex, trace[i:]))\n",
    "        res.append(row)\n",
    "    return res\n",
    "\n",
    "def build_matrix(values):\n",
    "    a = np.array(values)\n",
    "    a = a + np.transpose(a)\n",
    "    \n",
    "    return a\n",
    "\n",
    " \n",
    "results = []\n",
    "results.append(['Dataset', 'execution time', 'load time', 'tsne calculation', 'tsne retrieval'])\n",
    "\n",
    "for i in log_set:\n",
    "    \n",
    "    print(f\"Starting sim {i[0]}\")\n",
    "    res_row = []\n",
    "    res_row.append(i[0])\n",
    "    \n",
    "    start = time.time()\n",
    "    matrix = calculate_simmatrix(percentage_of_common_activities, i[1])\n",
    "    end = time.time()\n",
    "    \n",
    "    res_row.append(end - start)\n",
    "    \n",
    "    store_model(matrix)\n",
    "    \n",
    "    start = time.time()\n",
    "    load_model()\n",
    "    end = time.time()\n",
    "    \n",
    "    res_row.append(end - start)\n",
    "    \n",
    "    matrix = build_matrix(matrix)\n",
    "    \n",
    "    start = time.time()\n",
    "    embedded = TSNE(n_components=2, perplexity=90, n_iter=800, random_state=42).fit_transform(matrix) \n",
    "    end = time.time()\n",
    "    \n",
    "    res_row.append(end - start)\n",
    "    \n",
    "    store_model(embedded)\n",
    "    \n",
    "    start = time.time()\n",
    "    load_model()\n",
    "    end = time.time()\n",
    "    \n",
    "    res_row.append(end - start)\n",
    "    \n",
    "    results.append(res_row)\n",
    "    print(f\"Finished {i[0]}\")\n",
    "\n",
    "\n",
    "    \n",
    "with open('results.txt', 'w+') as file:\n",
    "    file.write(','.join(map(str, results)))\n",
    "    \n",
    "    "
   ]
  },
  {
   "cell_type": "code",
   "execution_count": 10,
   "metadata": {},
   "outputs": [
    {
     "data": {
      "text/plain": [
       "[['Dataset',\n",
       "  'execution time',\n",
       "  'load time',\n",
       "  'tsne calculation',\n",
       "  'tsne retrieval'],\n",
       " ['data/bpi_2012.xes',\n",
       "  456.7346317768097,\n",
       "  9.373095035552979,\n",
       "  731.9496920108795,\n",
       "  0.00027108192443847656],\n",
       " ['data/bpi_2017.xes',\n",
       "  5305.019010066986,\n",
       "  58.548521280288696,\n",
       "  5948.944792985916,\n",
       "  0.0002560615539550781],\n",
       " ['data/mobis_challenge_log_2019.xes',\n",
       "  169.9168393611908,\n",
       "  2.07000732421875,\n",
       "  135.82157111167908,\n",
       "  0.00021886825561523438]]"
      ]
     },
     "execution_count": 10,
     "metadata": {},
     "output_type": "execute_result"
    }
   ],
   "source": [
    "results"
   ]
  },
  {
   "cell_type": "code",
   "execution_count": 21,
   "metadata": {},
   "outputs": [
    {
     "name": "stdout",
     "output_type": "stream",
     "text": [
      "[175.74421334266663, 174.11707401275635, 169.03724145889282, 182.3472831249237, 167.24653267860413, 172.6279580593109, 178.23791980743408, 197.4218349456787, 188.33017897605896, 191.01041316986084]\n"
     ]
    }
   ],
   "source": [
    "p = multiprocessing.Pool(26)\n",
    "res = []\n",
    "\n",
    "for i in range(len(trace)):\n",
    "    a = trace[i]\n",
    "    row = [0 for n in range(i)]\n",
    "\n",
    "    #func = partial(levenshtein, a)\n",
    "    #func = partial(damerau_levenshtein_distance, a)\n",
    "    func = partial(percentage_of_common_activities, a)\n",
    "    row.extend(p.map(func, trace[i:]))\n",
    "    res.append(row)\n"
   ]
  },
  {
   "cell_type": "markdown",
   "metadata": {},
   "source": [
    "## Aufbau der Matrix\n",
    "* a + at um die symmetrische Matrix zu erstellen\n",
    "* a bildet somit die Matrix für das Clustering (tSNE)\n",
    "* Verwenden von multicore tSNE im Demonstrator"
   ]
  },
  {
   "cell_type": "code",
   "execution_count": 23,
   "metadata": {},
   "outputs": [],
   "source": [
    "a = np.array(res)\n",
    "a = a + np.transpose(a)"
   ]
  },
  {
   "cell_type": "code",
   "execution_count": 24,
   "metadata": {},
   "outputs": [],
   "source": [
    "from sklearn.manifold import TSNE\n",
    "\n",
    "embedded = TSNE(n_components=2, perplexity=90, n_iter=800, random_state=42).fit_transform(a) # Ggf. die Parameter anpassen"
   ]
  },
  {
   "cell_type": "markdown",
   "metadata": {},
   "source": [
    "## Visualisieren des Clusterings\n",
    "* Daten sollen im Prototyp im Frontend/Website angezeigt werden.\n",
    "* Zu beachten ist hier die Laufzeit des TSNE-Algorithmus\n",
    "* Ergebnisse sollten zwischengespeichert werden"
   ]
  },
  {
   "cell_type": "code",
   "execution_count": 12,
   "metadata": {},
   "outputs": [
    {
     "data": {
      "image/png": "[encoded data removed]",
      "text/plain": [
       "<Figure size 864x576 with 1 Axes>"
      ]
     },
     "metadata": {
      "needs_background": "light"
     },
     "output_type": "display_data"
    }
   ],
   "source": [
    "%matplotlib inline\n",
    "import matplotlib.pyplot as plt\n",
    "\n",
    "plt.figure(figsize=(12, 8))\n",
    "plt.scatter(embedded[:,0], embedded[:,1])\n",
    "plt.show()"
   ]
  },
  {
   "cell_type": "markdown",
   "metadata": {},
   "source": [
    "## Auswahl des Clusterbereiches\n",
    "* Clusterbereich mit einer bounding box auswählen\n",
    "* Die Eckpunkte dienen dann der Selektion"
   ]
  },
  {
   "cell_type": "code",
   "execution_count": 13,
   "metadata": {},
   "outputs": [],
   "source": [
    "class Point:\n",
    "    \n",
    "    def __init__(self, x, y):\n",
    "        self.x = x\n",
    "        self.y = y\n",
    "        \n",
    "    @property\n",
    "    def x(self):\n",
    "        return self._x\n",
    "        \n",
    "    @x.setter\n",
    "    def x(self, x):\n",
    "        self._x = x\n",
    "        \n",
    "    @property\n",
    "    def y(self):\n",
    "        return self._y\n",
    "        \n",
    "    @y.setter\n",
    "    def y(self, y):\n",
    "        self._y = y\n",
    "    \n",
    "    def __repr__(self):\n",
    "        return f\"<{self._x},{self._y}>\"\n",
    "\n",
    "def get_subset(cluster_result, lu, rd):\n",
    "    \"\"\" Generating the \n",
    "    \"\"\"\n",
    "    instance_list = []\n",
    "    \n",
    "    for i in range(len(cluster_result)):\n",
    "        if lu.x < cluster_result[i][0] < rd.x and rd.y < cluster_result[i][1] < lu.y:\n",
    "            instance_list.append(i)\n",
    "            \n",
    "    return instance_list\n",
    "\n",
    "subset = get_subset(embedded, Point(-15, 40), Point(0, 30))\n",
    "    "
   ]
  },
  {
   "cell_type": "markdown",
   "metadata": {},
   "source": [
    "## Mining der Prozessmodelle\n",
    "* Erstellen von Prozessmodellen aus dem daraus resultierenden subset"
   ]
  },
  {
   "cell_type": "code",
   "execution_count": null,
   "metadata": {},
   "outputs": [],
   "source": [
    "from pm4py.algo.discovery.alpha import factory as alpha_miner\n",
    "\n",
    "net, im, fm = alpha_miner.apply(sublog)"
   ]
  },
  {
   "cell_type": "code",
   "execution_count": null,
   "metadata": {},
   "outputs": [],
   "source": [
    "from pm4py.visualization.petrinet import factory as pn_vis_factory\n",
    "gviz = pn_vis_factory.apply(net, im, fm)\n",
    "pn_vis_factory.view(gviz)"
   ]
  },
  {
   "cell_type": "code",
   "execution_count": null,
   "metadata": {},
   "outputs": [],
   "source": [
    "from pm4py.algo.discovery.heuristics import factory as heuristics_miner\n",
    "from pm4py.visualization.heuristics_net import factory as hn_vis_factory\n",
    "\n",
    "heu_net = heuristics_miner.apply_heu(sublog, parameters={\"dependency_thresh\": 0.99})\n",
    "gviz = hn_vis_factory.apply(heu_net)\n",
    "hn_vis_factory.view(gviz)"
   ]
  },
  {
   "cell_type": "code",
   "execution_count": null,
   "metadata": {},
   "outputs": [],
   "source": [
    "from pm4py.algo.discovery.heuristics import factory as heuristics_miner\n",
    "net, im, fm = heuristics_miner.apply(sublog, parameters={\"dependency_thresh\": 0.99})\n",
    "gviz = pn_vis_factory.apply(net, im, fm)\n",
    "pn_vis_factory.view(gviz)"
   ]
  },
  {
   "cell_type": "code",
   "execution_count": null,
   "metadata": {},
   "outputs": [],
   "source": [
    "heu_net = heuristics_miner.apply_heu(log, parameters={\"dependency_thresh\": 0.99})\n",
    "gviz = hn_vis_factory.apply(heu_net)\n",
    "hn_vis_factory.view(gviz)\n"
   ]
  },
  {
   "cell_type": "code",
   "execution_count": null,
   "metadata": {},
   "outputs": [],
   "source": []
  }
 ],
 "metadata": {
  "kernelspec": {
   "display_name": "Python 3",
   "language": "python",
   "name": "python3"
  },
  "language_info": {
   "codemirror_mode": {
    "name": "ipython",
    "version": 3
   },
   "file_extension": ".py",
   "mimetype": "text/x-python",
   "name": "python",
   "nbconvert_exporter": "python",
   "pygments_lexer": "ipython3",
   "version": "3.7.1"
  }
 },
 "nbformat": 4,
 "nbformat_minor": 2
}
